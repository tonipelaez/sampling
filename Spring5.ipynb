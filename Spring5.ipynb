{
 "cells": [
  {
   "cell_type": "markdown",
   "metadata": {},
   "source": [
    "## Spring 5: Muestreo de datos\n"
   ]
  },
  {
   "cell_type": "code",
   "execution_count": 128,
   "metadata": {},
   "outputs": [],
   "source": [
    "import pandas as pd\n",
    "import matplotlib.pyplot as plt "
   ]
  },
  {
   "cell_type": "markdown",
   "metadata": {},
   "source": [
    "Primero sera crear nuestro dataframe con los datos seleccionados. En este caso particular son una serie de archivos  _*.csv_ , cada uno de los cuales tiene la información de una temporada de la ligra española de 1º división.  \n",
    "*Los datos los he sacado de una web de apuestas , así que no haré referencia a su origen por cuestiones éticas*"
   ]
  },
  {
   "cell_type": "markdown",
   "metadata": {},
   "source": [
    "Lo primero será crear un array con los nombres de los archivos , para a continuación ir añadiendolos a un dataframe mediante un bucle for."
   ]
  },
  {
   "cell_type": "code",
   "execution_count": 129,
   "metadata": {},
   "outputs": [
    {
     "name": "stdout",
     "output_type": "stream",
     "text": [
      "['SP1(0).csv', 'SP1(1).csv', 'SP1(2).csv', 'SP1(3).csv', 'SP1(4).csv', 'SP1(5).csv', 'SP1(6).csv', 'SP1(7).csv', 'SP1(8).csv', 'SP1(9).csv', 'SP1(10).csv', 'SP1(11).csv', 'SP1(12).csv', 'SP1(13).csv', 'SP1(14).csv', 'SP1(15).csv', 'SP1(16).csv', 'SP1(17).csv', 'SP1(18).csv', 'SP1(19).csv', 'SP1(20).csv', 'SP1(21).csv', 'SP1(22).csv', 'SP1(23).csv', 'SP1(24).csv', 'SP1(25).csv', 'SP1(26).csv', 'SP1(27).csv', 'SP1(28).csv', 'SP1(29).csv', 'SP1(30).csv']\n"
     ]
    }
   ],
   "source": [
    "archivos=list()\n",
    "for i in range(31):\n",
    "    archivos.append(\"SP1(\"+str(i)+\").csv\")\n",
    "print(archivos)"
   ]
  },
  {
   "cell_type": "code",
   "execution_count": 130,
   "metadata": {},
   "outputs": [],
   "source": [
    "datos_liga=pd.read_csv(\"./datos/\"+archivos[0])\n"
   ]
  },
  {
   "cell_type": "code",
   "execution_count": 131,
   "metadata": {},
   "outputs": [],
   "source": [
    "for i in range(1,25):\n",
    "    temp=pd.read_csv(\"./datos/\"+archivos[i])\n",
    "    datos_liga=datos_liga.append(temp,ignore_index=True)"
   ]
  },
  {
   "cell_type": "code",
   "execution_count": 132,
   "metadata": {},
   "outputs": [
    {
     "data": {
      "text/plain": [
       "<bound method NDFrame.describe of       Div        Date   Time     HomeTeam     AwayTeam  FTHG  FTAG FTR  HTHG  \\\n",
       "0     SP1  13/08/2021  20:00     Valencia       Getafe     1     0   H     1   \n",
       "1     SP1  14/08/2021  18:30        Cadiz      Levante     1     1   D     0   \n",
       "2     SP1  14/08/2021  18:30     Mallorca        Betis     1     1   D     1   \n",
       "3     SP1  14/08/2021  21:00       Alaves  Real Madrid     1     4   A     0   \n",
       "4     SP1  14/08/2021  21:00      Osasuna      Espanol     0     0   D     0   \n",
       "...   ...         ...    ...          ...          ...   ...   ...  ..   ...   \n",
       "9495  SP1    18/05/08    NaN  Real Madrid      Levante     5     2   H     3   \n",
       "9496  SP1    18/05/08    NaN   Recreativo   Valladolid     1     1   D     0   \n",
       "9497  SP1    18/05/08    NaN    Santander      Osasuna     1     0   H     0   \n",
       "9498  SP1    18/05/08    NaN      Sevilla   Ath Bilbao     4     1   H     1   \n",
       "9499  SP1    18/05/08    NaN     Valencia   Ath Madrid     3     1   H     2   \n",
       "\n",
       "      HTAG  ...   SJA   GBH  GBD    GBA   BSH   BSD    BSA   SBH  SBD    SBA  \n",
       "0        0  ...   NaN   NaN  NaN    NaN   NaN   NaN    NaN   NaN  NaN    NaN  \n",
       "1        1  ...   NaN   NaN  NaN    NaN   NaN   NaN    NaN   NaN  NaN    NaN  \n",
       "2        0  ...   NaN   NaN  NaN    NaN   NaN   NaN    NaN   NaN  NaN    NaN  \n",
       "3        0  ...   NaN   NaN  NaN    NaN   NaN   NaN    NaN   NaN  NaN    NaN  \n",
       "4        0  ...   NaN   NaN  NaN    NaN   NaN   NaN    NaN   NaN  NaN    NaN  \n",
       "...    ...  ...   ...   ...  ...    ...   ...   ...    ...   ...  ...    ...  \n",
       "9495     0  ...  21.0  1.15  6.5  12.00  1.14  6.50  15.00  1.13  6.5  17.00  \n",
       "9496     1  ...   3.6  2.10  3.0   3.60  2.10  3.10   3.30  2.10  3.1   3.30  \n",
       "9497     0  ...   3.0  2.20  3.5   2.75  2.25  3.40   2.75  2.25  3.5   2.70  \n",
       "9498     1  ...   7.0  1.45  4.0   6.25  1.44  3.75   7.00  1.45  4.0   6.25  \n",
       "9499     0  ...   2.5  2.75  3.1   2.40  2.75  3.10   2.40  2.55  3.1   2.55  \n",
       "\n",
       "[9500 rows x 138 columns]>"
      ]
     },
     "execution_count": 132,
     "metadata": {},
     "output_type": "execute_result"
    }
   ],
   "source": [
    "datos_liga.describe"
   ]
  },
  {
   "cell_type": "code",
   "execution_count": 133,
   "metadata": {},
   "outputs": [
    {
     "data": {
      "text/plain": [
       "<bound method NDFrame.describe of 0       13/08/2021\n",
       "1       14/08/2021\n",
       "2       14/08/2021\n",
       "3       14/08/2021\n",
       "4       14/08/2021\n",
       "           ...    \n",
       "9495      18/05/08\n",
       "9496      18/05/08\n",
       "9497      18/05/08\n",
       "9498      18/05/08\n",
       "9499      18/05/08\n",
       "Name: Date, Length: 9500, dtype: object>"
      ]
     },
     "execution_count": 133,
     "metadata": {},
     "output_type": "execute_result"
    }
   ],
   "source": [
    "datos_liga[\"Date\"].describe"
   ]
  },
  {
   "cell_type": "markdown",
   "metadata": {},
   "source": [
    "Ya tenemos nuestro dataframe. Este sera nuestro universo de datos : datos de encuentros de la 1º división española desde la temporada 2021 a la de 2008. Por su origen poseen muchos datos que no queremos y por su extensión en el tiempo hay campos que han aparecido y desaparecido .  \n",
    "Antes de seleccionar algunos campos para comprobar los datos , realizaremos el muestreo de datos.\n"
   ]
  },
  {
   "cell_type": "markdown",
   "metadata": {},
   "source": [
    "En nuestro caso ya sabemos que utilizaremos una muestreo aleatorio y sistematico , por lo que nos centramos en cuanto de extenso debe ser nuestro muestreo.  \n",
    "Para este caso , al ser un dataframe poco extenso podemos comparar los datos originales con los de los muestreados así que usaremos muestreo del 10% y el 5 % y compararemos.  \n"
   ]
  },
  {
   "cell_type": "markdown",
   "metadata": {},
   "source": [
    "sampling 5% aleatorio"
   ]
  },
  {
   "cell_type": "code",
   "execution_count": 134,
   "metadata": {},
   "outputs": [],
   "source": [
    "random_liga_5=datos_liga.sample(500)"
   ]
  },
  {
   "cell_type": "markdown",
   "metadata": {},
   "source": [
    "sampling 10% aleatorio"
   ]
  },
  {
   "cell_type": "code",
   "execution_count": 135,
   "metadata": {},
   "outputs": [],
   "source": [
    "random_liga_10=datos_liga.sample(1000)"
   ]
  },
  {
   "cell_type": "markdown",
   "metadata": {},
   "source": [
    "sampling 5% sistemático  \n",
    "Para ello primero crearé una lista con las posiciones del dataframe que quiero muestrear. Básicamente es poner los límites de filas del dataframe para que no de error y el intervalo que queramos para obtener el númeo de datos requerido."
   ]
  },
  {
   "cell_type": "code",
   "execution_count": 136,
   "metadata": {},
   "outputs": [],
   "source": [
    "\n",
    "seleccion_5=range(0,9499,int(9500/500))\n",
    "systematic_random_liga_5=datos_liga.loc[seleccion_5]"
   ]
  },
  {
   "cell_type": "markdown",
   "metadata": {},
   "source": [
    "sampling 10% sistemático  "
   ]
  },
  {
   "cell_type": "code",
   "execution_count": 137,
   "metadata": {},
   "outputs": [],
   "source": [
    "seleccion_10=range(0,9499,int(9500/1000))\n",
    "systematic_random_liga_10=datos_liga.loc[seleccion_10]"
   ]
  },
  {
   "cell_type": "markdown",
   "metadata": {},
   "source": [
    "Ya tenemos nuestro muestreo hecho (al 5% y al 10%) y aleatorio y sistemático. Primero nos quedaremos con algunos campos que puedan ser interesantes."
   ]
  },
  {
   "cell_type": "markdown",
   "metadata": {},
   "source": [
    "\n",
    "*HomeTeam = Home Team*   \n",
    "    *AwayTeam = Away Team*  \n",
    "    *FTHG and HG = Full Time Home Team Goals*  \n",
    "    *FTAG and AG = Full Time Away Team Goals*  \n",
    "    *FTR and Res = Full Time Result (H=Home Win, D=Draw, A=Away Win)*  \n",
    "    *HTHG = Half Time Home Team Goals*  \n",
    "    *HTAG = Half Time Away Team Goals*  \n",
    "    *HTR = Half Time Result (H=Home Win, D=Draw, A=Away Win)*  \n"
   ]
  },
  {
   "cell_type": "code",
   "execution_count": 138,
   "metadata": {},
   "outputs": [],
   "source": [
    "datos_liga=datos_liga[[\"HomeTeam\",\"AwayTeam\",\"HTR\",\"FTR\",\"FTHG\",\"FTAG\"]]\n",
    "random_liga_5=random_liga_5[[\"HomeTeam\",\"AwayTeam\",\"HTR\",\"FTR\",\"FTHG\",\"FTAG\"]]\n",
    "systematic_random_liga_5=systematic_random_liga_5[[\"HomeTeam\",\"AwayTeam\",\"HTR\",\"FTR\",\"FTHG\",\"FTAG\"]]"
   ]
  },
  {
   "cell_type": "code",
   "execution_count": 139,
   "metadata": {},
   "outputs": [],
   "source": [
    "\n",
    "random_liga_10=random_liga_10[[\"HomeTeam\",\"AwayTeam\",\"HTR\",\"FTR\",\"FTHG\",\"FTAG\"]]\n",
    "systematic_random_liga_10=systematic_random_liga_10[[\"HomeTeam\",\"AwayTeam\",\"HTR\",\"FTR\",\"FTHG\",\"FTAG\"]]\n"
   ]
  },
  {
   "cell_type": "markdown",
   "metadata": {},
   "source": [
    "La primera cuestión es si con un5% hubiera sido un límite aceptable o por el contrario estaríamos sesgando datos al coger una muestra muy pequeña de datos.O al contrario, es el 10% un muestreo adecuado , o estamos desperdiciando recursos sin obtener una mejora de la calidad de la información que podemos extraer.  \n",
    "Haremos una visión somera para ver que podemos inferir."
   ]
  },
  {
   "cell_type": "markdown",
   "metadata": {},
   "source": [
    "Primero comparamos los muestreos del 5% y del 10% entre ellos gráficamente.\n"
   ]
  },
  {
   "cell_type": "code",
   "execution_count": 140,
   "metadata": {},
   "outputs": [
    {
     "data": {
      "text/plain": [
       "(array([[172.,   0.,   0.,   0.,   0., 210.,   0.,   0.,   0., 118.],\n",
       "        [353.,   0.,   0.,   0.,   0., 399.,   0.,   0.,   0., 248.]]),\n",
       " array([0. , 0.2, 0.4, 0.6, 0.8, 1. , 1.2, 1.4, 1.6, 1.8, 2. ]),\n",
       " <a list of 2 BarContainer objects>)"
      ]
     },
     "execution_count": 140,
     "metadata": {},
     "output_type": "execute_result"
    },
    {
     "data": {
      "image/png": "[encoded data removed]",
      "text/plain": [
       "<Figure size 432x288 with 1 Axes>"
      ]
     },
     "metadata": {
      "needs_background": "light"
     },
     "output_type": "display_data"
    }
   ],
   "source": [
    "plt.hist([random_liga_5[\"HTR\"],random_liga_10[\"HTR\"]])"
   ]
  },
  {
   "cell_type": "code",
   "execution_count": 141,
   "metadata": {},
   "outputs": [
    {
     "data": {
      "text/plain": [
       "(array([[169.,   0.,   0.,   0.,   0., 217.,   0.,   0.,   0., 114.],\n",
       "        [389.,   0.,   0.,   0.,   0., 460.,   0.,   0.,   0., 207.]]),\n",
       " array([0. , 0.2, 0.4, 0.6, 0.8, 1. , 1.2, 1.4, 1.6, 1.8, 2. ]),\n",
       " <a list of 2 BarContainer objects>)"
      ]
     },
     "execution_count": 141,
     "metadata": {},
     "output_type": "execute_result"
    },
    {
     "data": {
      "image/png": "[encoded data removed]",
      "text/plain": [
       "<Figure size 432x288 with 1 Axes>"
      ]
     },
     "metadata": {
      "needs_background": "light"
     },
     "output_type": "display_data"
    }
   ],
   "source": [
    "plt.hist([systematic_random_liga_5[\"HTR\"],systematic_random_liga_10[\"HTR\"]])"
   ]
  },
  {
   "cell_type": "markdown",
   "metadata": {},
   "source": [
    "Si los comparamos todos , vemos que la tendencia general se mantiene.  \n",
    "En la media parte hay una tendencia a que el resultado sea de empate , seguido de cerca por que el equipo local este por delante en el marcador y bastante por detrás , que sea el visitante el que gane."
   ]
  },
  {
   "cell_type": "code",
   "execution_count": 142,
   "metadata": {},
   "outputs": [
    {
     "data": {
      "text/plain": [
       "(array([[3350.,    0.,    0.,    0.,    0., 2167.,    0.,    0.,    0.,\n",
       "         3983.],\n",
       "        [ 172.,    0.,    0.,    0.,    0.,  118.,    0.,    0.,    0.,\n",
       "          210.],\n",
       "        [ 353.,    0.,    0.,    0.,    0.,  248.,    0.,    0.,    0.,\n",
       "          399.],\n",
       "        [ 169.,    0.,    0.,    0.,    0.,  114.,    0.,    0.,    0.,\n",
       "          217.],\n",
       "        [ 389.,    0.,    0.,    0.,    0.,  207.,    0.,    0.,    0.,\n",
       "          460.]]),\n",
       " array([0. , 0.2, 0.4, 0.6, 0.8, 1. , 1.2, 1.4, 1.6, 1.8, 2. ]),\n",
       " <a list of 5 BarContainer objects>)"
      ]
     },
     "execution_count": 142,
     "metadata": {},
     "output_type": "execute_result"
    },
    {
     "data": {
      "image/png": "[encoded data removed]",
      "text/plain": [
       "<Figure size 432x288 with 1 Axes>"
      ]
     },
     "metadata": {
      "needs_background": "light"
     },
     "output_type": "display_data"
    }
   ],
   "source": [
    "plt.hist([datos_liga[\"HTR\"],random_liga_5[\"HTR\"],random_liga_10[\"HTR\"],systematic_random_liga_5[\"HTR\"],systematic_random_liga_10[\"HTR\"]])"
   ]
  },
  {
   "cell_type": "markdown",
   "metadata": {},
   "source": [
    "Si acotamos más los datos ,concretándolos, por ej. selecionado un equipo en concreto , podemos observar alguna variación más acusada debido a que al disponer de menos datos , cada uno cuenta más, pero la tendencia general sigue siendo la misma"
   ]
  },
  {
   "cell_type": "code",
   "execution_count": 143,
   "metadata": {},
   "outputs": [
    {
     "data": {
      "text/plain": [
       "(array([[ 6.,  0.,  0.,  0.,  0., 19.,  0.,  0.,  0.,  4.],\n",
       "        [ 8.,  0.,  0.,  0.,  0., 10.,  0.,  0.,  0.,  4.],\n",
       "        [ 9.,  0.,  0.,  0.,  0., 34.,  0.,  0.,  0., 10.],\n",
       "        [12.,  0.,  0.,  0.,  0., 27.,  0.,  0.,  0.,  9.]]),\n",
       " array([0. , 0.2, 0.4, 0.6, 0.8, 1. , 1.2, 1.4, 1.6, 1.8, 2. ]),\n",
       " <a list of 4 BarContainer objects>)"
      ]
     },
     "execution_count": 143,
     "metadata": {},
     "output_type": "execute_result"
    },
    {
     "data": {
      "image/png": "[encoded data removed]",
      "text/plain": [
       "<Figure size 432x288 with 1 Axes>"
      ]
     },
     "metadata": {
      "needs_background": "light"
     },
     "output_type": "display_data"
    }
   ],
   "source": [
    "plt.hist([random_liga_5[random_liga_5[\"HomeTeam\"]==\"Valencia\"][\"FTR\"],systematic_random_liga_5[systematic_random_liga_5[\"HomeTeam\"]==\"Valencia\"][\"FTR\"],\n",
    "random_liga_10[random_liga_10[\"HomeTeam\"]==\"Valencia\"][\"FTR\"],systematic_random_liga_10[systematic_random_liga_10[\"HomeTeam\"]==\"Valencia\"][\"FTR\"]])"
   ]
  },
  {
   "cell_type": "markdown",
   "metadata": {},
   "source": [
    "### Conclusión:\n",
    "Aunque es un estudio muy simple y poco profundo , parece que nuestro muestreo al 5% si que ha conseguido capturar las tendencias generales del conjunto de datos del que partíamos.  \n",
    "Además no vemos que el metódo de muestreo(aleatorio o sistemático), tenga un efecto de sesgo en los resultados.  \n",
    "Esto puede ser debido a que cada temporada el orden de los partidos se sortea , con lo que ese elemento aleatorio introducido ya de base en los datos de partida , seguramente, facilita que los datos tengan una distribución normal y no tengan sesgo al hacer un muestreo sistemático.  \n",
    "Si el calendario siempre siguiera el mismo orden podría suceder , sobretodo en el muestreo sistemático del 5%, que hubiese equipos que no serian muestreados y otros que siempre.  \n",
    "Esto provocaria una sobrerepresentación de ciertos equipos y una subrepresentación de otros en los datos muestreados, lo que podría llevar a sesgos (por ejemplo el porcentaje de victorias de los visitantes si en el muestreo Madrid y Barcelona estuviesen sobrerepresentados , ya que harian que pareciesen superiores a lo que són por termino medio (en teoría, se debería ver en los datos ;) )"
   ]
  },
  {
   "cell_type": "markdown",
   "metadata": {},
   "source": []
  }
 ],
 "metadata": {
  "interpreter": {
   "hash": "7a4880536bc750f262d1b458e4fd4d611315d3098d58b77bd9c89b3237b9ab47"
  },
  "kernelspec": {
   "display_name": "Python 3.9.7 ('base')",
   "language": "python",
   "name": "python3"
  },
  "language_info": {
   "codemirror_mode": {
    "name": "ipython",
    "version": 3
   },
   "file_extension": ".py",
   "mimetype": "text/x-python",
   "name": "python",
   "nbconvert_exporter": "python",
   "pygments_lexer": "ipython3",
   "version": "3.9.7"
  },
  "orig_nbformat": 4
 },
 "nbformat": 4,
 "nbformat_minor": 2
}
